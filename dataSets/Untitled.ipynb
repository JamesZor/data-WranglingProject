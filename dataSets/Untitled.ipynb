{
 "cells": [
  {
   "cell_type": "code",
   "execution_count": 1,
   "id": "bb5a6b89",
   "metadata": {},
   "outputs": [],
   "source": [
    "import numpy as np\n",
    "import pandas as pd\n",
    "import matplotlib.pyplot as plt\n",
    "pd.options.display.max_rows = 20\n",
    "np.set_printoptions(precision=4, suppress=True)"
   ]
  },
  {
   "cell_type": "code",
   "execution_count": 4,
   "id": "de5d9fb5",
   "metadata": {},
   "outputs": [],
   "source": [
    "df1 = pd.read_csv('jan22p1NL.csv')\n",
    "df2 = pd.read_csv('jan22p2NL.csv')\n"
   ]
  },
  {
   "cell_type": "code",
   "execution_count": 6,
   "id": "8d845292",
   "metadata": {},
   "outputs": [],
   "source": [
    "df = pd.concat([df1, df2])"
   ]
  },
  {
   "cell_type": "code",
   "execution_count": 10,
   "id": "75060a08",
   "metadata": {},
   "outputs": [
    {
     "data": {
      "text/html": [
       "<div>\n",
       "<style scoped>\n",
       "    .dataframe tbody tr th:only-of-type {\n",
       "        vertical-align: middle;\n",
       "    }\n",
       "\n",
       "    .dataframe tbody tr th {\n",
       "        vertical-align: top;\n",
       "    }\n",
       "\n",
       "    .dataframe thead th {\n",
       "        text-align: right;\n",
       "    }\n",
       "</style>\n",
       "<table border=\"1\" class=\"dataframe\">\n",
       "  <thead>\n",
       "    <tr style=\"text-align: right;\">\n",
       "      <th></th>\n",
       "      <th>id</th>\n",
       "    </tr>\n",
       "    <tr>\n",
       "      <th>created_at</th>\n",
       "      <th></th>\n",
       "    </tr>\n",
       "  </thead>\n",
       "  <tbody>\n",
       "    <tr>\n",
       "      <th>2022-01-08 23:59:59+00:00</th>\n",
       "      <td>1479966143293136897</td>\n",
       "    </tr>\n",
       "    <tr>\n",
       "      <th>2022-01-09 00:00:00+00:00</th>\n",
       "      <td>1479966147487408128</td>\n",
       "    </tr>\n",
       "    <tr>\n",
       "      <th>2022-01-09 00:00:16+00:00</th>\n",
       "      <td>1479966214617190400</td>\n",
       "    </tr>\n",
       "    <tr>\n",
       "      <th>2022-01-09 00:00:38+00:00</th>\n",
       "      <td>1479966306879393798</td>\n",
       "    </tr>\n",
       "    <tr>\n",
       "      <th>2022-01-09 00:01:08+00:00</th>\n",
       "      <td>1479966432725291008</td>\n",
       "    </tr>\n",
       "    <tr>\n",
       "      <th>...</th>\n",
       "      <td>...</td>\n",
       "    </tr>\n",
       "    <tr>\n",
       "      <th>2022-01-28 23:56:23+00:00</th>\n",
       "      <td>1487212994635472903</td>\n",
       "    </tr>\n",
       "    <tr>\n",
       "      <th>2022-01-28 23:56:24+00:00</th>\n",
       "      <td>1487212998859051009</td>\n",
       "    </tr>\n",
       "    <tr>\n",
       "      <th>2022-01-28 23:56:26+00:00</th>\n",
       "      <td>1487213007210151936</td>\n",
       "    </tr>\n",
       "    <tr>\n",
       "      <th>2022-01-28 23:56:30+00:00</th>\n",
       "      <td>1487213023991369730</td>\n",
       "    </tr>\n",
       "    <tr>\n",
       "      <th>2022-01-28 23:56:34+00:00</th>\n",
       "      <td>1487213040777015298</td>\n",
       "    </tr>\n",
       "  </tbody>\n",
       "</table>\n",
       "<p>364169 rows × 1 columns</p>\n",
       "</div>"
      ],
      "text/plain": [
       "                                            id\n",
       "created_at                                    \n",
       "2022-01-08 23:59:59+00:00  1479966143293136897\n",
       "2022-01-09 00:00:00+00:00  1479966147487408128\n",
       "2022-01-09 00:00:16+00:00  1479966214617190400\n",
       "2022-01-09 00:00:38+00:00  1479966306879393798\n",
       "2022-01-09 00:01:08+00:00  1479966432725291008\n",
       "...                                        ...\n",
       "2022-01-28 23:56:23+00:00  1487212994635472903\n",
       "2022-01-28 23:56:24+00:00  1487212998859051009\n",
       "2022-01-28 23:56:26+00:00  1487213007210151936\n",
       "2022-01-28 23:56:30+00:00  1487213023991369730\n",
       "2022-01-28 23:56:34+00:00  1487213040777015298\n",
       "\n",
       "[364169 rows x 1 columns]"
      ]
     },
     "execution_count": 10,
     "metadata": {},
     "output_type": "execute_result"
    }
   ],
   "source": [
    "df['created_at'] = pd.to_datetime(df['created_at'])\n",
    "df.set_index('created_at')"
   ]
  },
  {
   "cell_type": "code",
   "execution_count": 14,
   "id": "0ae69e80",
   "metadata": {},
   "outputs": [],
   "source": [
    "# define the bins\n",
    "bins = [0, 6, 12, 18, 24]\n",
    "\n",
    "# add custom labels if desired\n",
    "labels = ['00:00-05:59', '06:00-11:59', '12:00-17:59', '18:00-23:59']\n",
    "\n",
    "# add the bins to the dataframe\n",
    "df['Time Bin'] = pd.cut(df.created_at.dt.hour, bins, labels=labels, right=False)"
   ]
  },
  {
   "cell_type": "code",
   "execution_count": 15,
   "id": "2cfb9341",
   "metadata": {},
   "outputs": [
    {
     "data": {
      "text/plain": [
       "0         18:00-23:59\n",
       "1         00:00-05:59\n",
       "2         00:00-05:59\n",
       "3         00:00-05:59\n",
       "4         00:00-05:59\n",
       "             ...     \n",
       "191652    18:00-23:59\n",
       "191653    18:00-23:59\n",
       "191654    18:00-23:59\n",
       "191655    18:00-23:59\n",
       "191656    18:00-23:59\n",
       "Name: Time Bin, Length: 364169, dtype: category\n",
       "Categories (4, object): ['00:00-05:59' < '06:00-11:59' < '12:00-17:59' < '18:00-23:59']"
      ]
     },
     "execution_count": 15,
     "metadata": {},
     "output_type": "execute_result"
    }
   ],
   "source": [
    "df"
   ]
  },
  {
   "cell_type": "code",
   "execution_count": 17,
   "id": "80ff8922",
   "metadata": {},
   "outputs": [],
   "source": [
    "dfg = df.groupby('Time Bin', as_index=False).agg([list, 'mean'])"
   ]
  },
  {
   "cell_type": "code",
   "execution_count": 18,
   "id": "87cc6427",
   "metadata": {},
   "outputs": [
    {
     "data": {
      "text/html": [
       "<div>\n",
       "<style scoped>\n",
       "    .dataframe tbody tr th:only-of-type {\n",
       "        vertical-align: middle;\n",
       "    }\n",
       "\n",
       "    .dataframe tbody tr th {\n",
       "        vertical-align: top;\n",
       "    }\n",
       "\n",
       "    .dataframe thead tr th {\n",
       "        text-align: left;\n",
       "    }\n",
       "\n",
       "    .dataframe thead tr:last-of-type th {\n",
       "        text-align: right;\n",
       "    }\n",
       "</style>\n",
       "<table border=\"1\" class=\"dataframe\">\n",
       "  <thead>\n",
       "    <tr>\n",
       "      <th></th>\n",
       "      <th colspan=\"2\" halign=\"left\">created_at</th>\n",
       "      <th colspan=\"2\" halign=\"left\">id</th>\n",
       "    </tr>\n",
       "    <tr>\n",
       "      <th></th>\n",
       "      <th>list</th>\n",
       "      <th>mean</th>\n",
       "      <th>list</th>\n",
       "      <th>mean</th>\n",
       "    </tr>\n",
       "    <tr>\n",
       "      <th>Time Bin</th>\n",
       "      <th></th>\n",
       "      <th></th>\n",
       "      <th></th>\n",
       "      <th></th>\n",
       "    </tr>\n",
       "  </thead>\n",
       "  <tbody>\n",
       "    <tr>\n",
       "      <th>00:00-05:59</th>\n",
       "      <td>[2022-01-09 00:00:00+00:00, 2022-01-09 00:00:1...</td>\n",
       "      <td>2022-01-16 04:51:14.787362816+00:00</td>\n",
       "      <td>[1479966147487408128, 1479966214617190400, 147...</td>\n",
       "      <td>1.482576e+18</td>\n",
       "    </tr>\n",
       "    <tr>\n",
       "      <th>06:00-11:59</th>\n",
       "      <td>[2022-01-09 06:05:05+00:00, 2022-01-09 06:05:1...</td>\n",
       "      <td>2022-01-16 19:01:34.932527872+00:00</td>\n",
       "      <td>[1480058023745921027, 1480058048878161920, 148...</td>\n",
       "      <td>1.482790e+18</td>\n",
       "    </tr>\n",
       "    <tr>\n",
       "      <th>12:00-17:59</th>\n",
       "      <td>[2022-01-09 12:26:11+00:00, 2022-01-09 12:26:1...</td>\n",
       "      <td>2022-01-16 15:23:27.210558208+00:00</td>\n",
       "      <td>[1480153930663436292, 1480153947449008139, 148...</td>\n",
       "      <td>1.482735e+18</td>\n",
       "    </tr>\n",
       "    <tr>\n",
       "      <th>18:00-23:59</th>\n",
       "      <td>[2022-01-08 23:59:59+00:00, 2022-01-09 18:00:0...</td>\n",
       "      <td>2022-01-16 23:46:16.407259648+00:00</td>\n",
       "      <td>[1479966143293136897, 1480237950965358599, 148...</td>\n",
       "      <td>1.482862e+18</td>\n",
       "    </tr>\n",
       "  </tbody>\n",
       "</table>\n",
       "</div>"
      ],
      "text/plain": [
       "                                                    created_at  \\\n",
       "                                                          list   \n",
       "Time Bin                                                         \n",
       "00:00-05:59  [2022-01-09 00:00:00+00:00, 2022-01-09 00:00:1...   \n",
       "06:00-11:59  [2022-01-09 06:05:05+00:00, 2022-01-09 06:05:1...   \n",
       "12:00-17:59  [2022-01-09 12:26:11+00:00, 2022-01-09 12:26:1...   \n",
       "18:00-23:59  [2022-01-08 23:59:59+00:00, 2022-01-09 18:00:0...   \n",
       "\n",
       "                                                 \\\n",
       "                                           mean   \n",
       "Time Bin                                          \n",
       "00:00-05:59 2022-01-16 04:51:14.787362816+00:00   \n",
       "06:00-11:59 2022-01-16 19:01:34.932527872+00:00   \n",
       "12:00-17:59 2022-01-16 15:23:27.210558208+00:00   \n",
       "18:00-23:59 2022-01-16 23:46:16.407259648+00:00   \n",
       "\n",
       "                                                            id                \n",
       "                                                          list          mean  \n",
       "Time Bin                                                                      \n",
       "00:00-05:59  [1479966147487408128, 1479966214617190400, 147...  1.482576e+18  \n",
       "06:00-11:59  [1480058023745921027, 1480058048878161920, 148...  1.482790e+18  \n",
       "12:00-17:59  [1480153930663436292, 1480153947449008139, 148...  1.482735e+18  \n",
       "18:00-23:59  [1479966143293136897, 1480237950965358599, 148...  1.482862e+18  "
      ]
     },
     "execution_count": 18,
     "metadata": {},
     "output_type": "execute_result"
    }
   ],
   "source": [
    "dfg"
   ]
  },
  {
   "cell_type": "code",
   "execution_count": null,
   "id": "ffa8d9be",
   "metadata": {},
   "outputs": [],
   "source": []
  }
 ],
 "metadata": {
  "kernelspec": {
   "display_name": "Python 3 (ipykernel)",
   "language": "python",
   "name": "python3"
  },
  "language_info": {
   "codemirror_mode": {
    "name": "ipython",
    "version": 3
   },
   "file_extension": ".py",
   "mimetype": "text/x-python",
   "name": "python",
   "nbconvert_exporter": "python",
   "pygments_lexer": "ipython3",
   "version": "3.10.9"
  }
 },
 "nbformat": 4,
 "nbformat_minor": 5
}
